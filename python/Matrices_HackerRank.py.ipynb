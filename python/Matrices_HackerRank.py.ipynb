{
 "cells": [
  {
   "cell_type": "code",
   "execution_count": 2,
   "metadata": {},
   "outputs": [],
   "source": [
    "import numpy as np\n",
    "\n",
    "# Do not change these variables\n",
    "A = np.array([[1,2,3],[2,7,4]])\n",
    "B = np.array([[1,-1],[0,1]])\n",
    "C = np.array([[5,-1],[9,1],[6,0]])\n",
    "D = np.array([[3,-2,-1],[1,2,3]])\n",
    "\n",
    "u = np.array([6,2,-3,5])\n",
    "v = np.array([3,5,-1,4])"
   ]
  },
  {
   "cell_type": "code",
   "execution_count": 9,
   "metadata": {},
   "outputs": [
    {
     "name": "stdout",
     "output_type": "stream",
     "text": [
      "{'A': (2, 3), 'B': (2, 2), 'C': (3, 2), 'D': (2, 3), 'u': (1, 4), 'v': (1, 4)}\n"
     ]
    }
   ],
   "source": [
    "# Q1: record the dimensions of A, B, C, D, u, v respectively in the dict below. \n",
    "#     Do not type the answers, make python do the work\n",
    "\n",
    "dimensions = {\n",
    "    'A': np.shape(A),\n",
    "    'B': np.shape(B),\n",
    "    'C': np.shape(C),\n",
    "    'D': np.shape(D),\n",
    "    'u': (1,np.size(u)),\n",
    "    'v': (1,np.size(v))\n",
    "}\n",
    "\n",
    "print(dimensions)"
   ]
  },
  {
   "cell_type": "code",
   "execution_count": 20,
   "metadata": {},
   "outputs": [
    {
     "name": "stdout",
     "output_type": "stream",
     "text": [
      "8.602325267042627\n"
     ]
    }
   ],
   "source": [
    "# Q2: vector operations\n",
    "#     assign `None` if the operation is not defined\n",
    "#     do not type the answers, make python do the work\n",
    "alpha = 6\n",
    "\n",
    "u_plus_v = u+v            # u+v\n",
    "u_minus_v = u-v           # u-v\n",
    "alpha_times_u = alpha*u       # alpha * u, alpha = 6\n",
    "u_dot_v = np.vdot(u,v)             # u . v\n",
    "norm_u = np.linalg.norm(u)              # ||u||"
   ]
  },
  {
   "cell_type": "code",
   "execution_count": 32,
   "metadata": {},
   "outputs": [],
   "source": [
    "# Q3: compute the following and assign to variables below:\n",
    "#     assign `None` if the operation is not defined\n",
    "#     do not type the answers, make python do the work\n",
    "\n",
    "A_plus_C = None #np.mat(A)+np.mat(C)             # A + C\n",
    "A_minus_Ctranspose = np.mat(A)-np.mat(C).getT()   # A - C.T\n",
    "Ctranspose_plus_3D = np.mat(C).getT()+ 3*np.mat(D)   # C.T + 3*D\n",
    "B_times_A = np.mat(B)*np.mat(A)            # B*A\n",
    "B_times_Atranspose = None #np.mat(B)*np.mat(A).getT()   # B*A.T"
   ]
  },
  {
   "cell_type": "code",
   "execution_count": 42,
   "metadata": {},
   "outputs": [
    {
     "name": "stdout",
     "output_type": "stream",
     "text": [
      "[[10 -4  0]\n",
      " [-4  8  8]\n",
      " [ 0  8 10]]\n"
     ]
    }
   ],
   "source": [
    "# Q4: (bonus)\n",
    "\n",
    "B_times_C = None #np.mat(B)*np.mat(C)            # B*C\n",
    "C_times_B = np.mat(C)*np.mat(B)            # C*B\n",
    "B_exp_4 = np.mat(B)*np.mat(B)*np.mat(B)*np.mat(B)     # B^4 #np.mat(B)^4 gives wrong result????\n",
    "A_times_Atranspose = np.mat(A)*np.mat(A).getT()   # A*A.T\n",
    "Dtranspose_times_D = np.mat(D).getT()*np.mat(D)   # D.T*D\n"
   ]
  },
  {
   "cell_type": "code",
   "execution_count": null,
   "metadata": {},
   "outputs": [],
   "source": []
  }
 ],
 "metadata": {
  "kernelspec": {
   "display_name": "Python 3",
   "language": "python",
   "name": "python3"
  },
  "language_info": {
   "codemirror_mode": {
    "name": "ipython",
    "version": 3
   },
   "file_extension": ".py",
   "mimetype": "text/x-python",
   "name": "python",
   "nbconvert_exporter": "python",
   "pygments_lexer": "ipython3",
   "version": "3.6.4"
  }
 },
 "nbformat": 4,
 "nbformat_minor": 2
}
